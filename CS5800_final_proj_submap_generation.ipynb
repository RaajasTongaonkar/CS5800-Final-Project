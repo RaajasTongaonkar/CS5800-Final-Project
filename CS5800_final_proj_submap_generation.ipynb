{
  "nbformat": 4,
  "nbformat_minor": 0,
  "metadata": {
    "colab": {
      "name": "CS5800 final proj submap generation",
      "provenance": []
    },
    "kernelspec": {
      "name": "python3",
      "display_name": "Python 3"
    },
    "language_info": {
      "name": "python"
    }
  },
  "cells": [
    {
      "cell_type": "code",
      "execution_count": 2,
      "metadata": {
        "id": "AlSwqzP6fsmn"
      },
      "outputs": [],
      "source": [
        "import pandas as pd\n",
        "\n",
        "df = pd.read_csv(\"Blue_Bike_Stations.csv\")"
      ]
    },
    {
      "cell_type": "code",
      "source": [
        "# Add two columns to normalize the coordinates\n",
        "df[\"Add_minX\"] = df[[\"X\"]]+min(df[\"X\"])\n",
        "df[\"Add_minY\"] = df[[\"Y\"]]-min(df[\"Y\"])"
      ],
      "metadata": {
        "id": "LgHh3BLaksvk"
      },
      "execution_count": 11,
      "outputs": []
    },
    {
      "cell_type": "code",
      "source": [
        "print(df.shape)\n",
        "print(df.head())"
      ],
      "metadata": {
        "colab": {
          "base_uri": "https://localhost:8080/"
        },
        "id": "sTMQ1WJ7lAyV",
        "outputId": "8086c58b-6874-45d8-9cad-70779984093a"
      },
      "execution_count": 12,
      "outputs": [
        {
          "output_type": "stream",
          "name": "stdout",
          "text": [
            "(425, 7)\n",
            "              X             Y                                 Name  \\\n",
            "0 -7.916449e+06  5.212672e+06                       1200 Beacon St   \n",
            "1 -7.923242e+06  5.215762e+06                          160 Arsenal   \n",
            "2 -7.918062e+06  5.215631e+06                     175 N Harvard St   \n",
            "3 -7.915794e+06  5.218121e+06                        191 Beacon St   \n",
            "4 -7.914260e+06  5.204349e+06  2 Hummingbird Lane at Olmsted Green   \n",
            "\n",
            "     District  Total_docks      Add_minX      Add_minY  \n",
            "0   Brookline           15  14815.049054  13327.199873  \n",
            "1   Watertown           11   8022.304783  16417.523998  \n",
            "2      Boston           18  13201.986218  16286.746119  \n",
            "3  Somerville           19  15470.440329  18777.076191  \n",
            "4      Boston           17  17004.771343   5005.154188  \n"
          ]
        }
      ]
    },
    {
      "cell_type": "code",
      "source": [
        "# Drop the columns we won't need\n",
        "df.drop([\"Number\",\"Latitude\",\"Longitude\",\"Public_\",\"ObjectId\"],axis=1,inplace=True)"
      ],
      "metadata": {
        "id": "xquRsuN9lE04"
      },
      "execution_count": 5,
      "outputs": []
    },
    {
      "cell_type": "code",
      "source": [
        "print(df.shape)\n",
        "print(df.head())"
      ],
      "metadata": {
        "colab": {
          "base_uri": "https://localhost:8080/"
        },
        "id": "GmNEROz-l8bK",
        "outputId": "ea1e4f49-e352-41f2-ea8d-81b9be2a1eaf"
      },
      "execution_count": 10,
      "outputs": [
        {
          "output_type": "stream",
          "name": "stdout",
          "text": [
            "(425, 7)\n",
            "              X             Y                                 Name  \\\n",
            "0 -7.916449e+06  5.212672e+06                       1200 Beacon St   \n",
            "1 -7.923242e+06  5.215762e+06                          160 Arsenal   \n",
            "2 -7.918062e+06  5.215631e+06                     175 N Harvard St   \n",
            "3 -7.915794e+06  5.218121e+06                        191 Beacon St   \n",
            "4 -7.914260e+06  5.204349e+06  2 Hummingbird Lane at Olmsted Green   \n",
            "\n",
            "     District  Total_docks      Add_minX      Add_minY  \n",
            "0   Brookline           15 -1.584771e+07  13327.199873  \n",
            "1   Watertown           11 -1.585451e+07  16417.523998  \n",
            "2      Boston           18 -1.584933e+07  16286.746119  \n",
            "3  Somerville           19 -1.584706e+07  18777.076191  \n",
            "4      Boston           17 -1.584552e+07   5005.154188  \n"
          ]
        }
      ]
    },
    {
      "cell_type": "code",
      "source": [
        "# Two entries had 0 total docks, no need to consider those\n",
        "df.drop(df[df[\"Total_docks\"]==0].index,inplace=True)"
      ],
      "metadata": {
        "id": "Pj6w8i-vl_YF"
      },
      "execution_count": 9,
      "outputs": []
    },
    {
      "cell_type": "code",
      "source": [
        "from numpy.ma.core import sqrt\n",
        "def dist(x1,y1,x2,y2):\n",
        "  x = pow(x1-x2,2)\n",
        "  y = pow(y1-y2,2)\n",
        "  return sqrt(x+y)"
      ],
      "metadata": {
        "id": "rFtkHbGVmZsv"
      },
      "execution_count": 13,
      "outputs": []
    },
    {
      "cell_type": "code",
      "source": [
        "a1 = df.iloc[0][[\"Add_minX\",\"Add_minY\"]]\n",
        "b1 = df.iloc[1][[\"Add_minX\",\"Add_minY\"]]\n",
        "print(a1)\n",
        "print(b1)"
      ],
      "metadata": {
        "colab": {
          "base_uri": "https://localhost:8080/"
        },
        "id": "7Woz0JkMoDb-",
        "outputId": "d3077720-0786-40fe-8c0c-1c0389f3f89f"
      },
      "execution_count": 15,
      "outputs": [
        {
          "output_type": "stream",
          "name": "stdout",
          "text": [
            "Add_minX    14815.049054\n",
            "Add_minY    13327.199873\n",
            "Name: 0, dtype: object\n",
            "Add_minX     8022.304783\n",
            "Add_minY    16417.523998\n",
            "Name: 1, dtype: object\n"
          ]
        }
      ]
    },
    {
      "cell_type": "code",
      "source": [
        "print(a1[0])"
      ],
      "metadata": {
        "colab": {
          "base_uri": "https://localhost:8080/"
        },
        "id": "iekBkP9toVP8",
        "outputId": "68663192-564e-452b-bf99-1bebc02d5685"
      },
      "execution_count": 16,
      "outputs": [
        {
          "output_type": "stream",
          "name": "stdout",
          "text": [
            "14815.049053790048\n"
          ]
        }
      ]
    },
    {
      "cell_type": "code",
      "source": [
        "dist(a1[0],a1[1],b1[0],b1[1])"
      ],
      "metadata": {
        "colab": {
          "base_uri": "https://localhost:8080/"
        },
        "id": "oZoptCcGogjI",
        "outputId": "2ddd6689-27b0-419c-fcb2-0a884f278cf3"
      },
      "execution_count": 17,
      "outputs": [
        {
          "output_type": "execute_result",
          "data": {
            "text/plain": [
              "7462.6723047555015"
            ]
          },
          "metadata": {},
          "execution_count": 17
        }
      ]
    },
    {
      "cell_type": "code",
      "source": [
        ""
      ],
      "metadata": {
        "id": "LRYHbJ3Jol5w"
      },
      "execution_count": null,
      "outputs": []
    }
  ]
}