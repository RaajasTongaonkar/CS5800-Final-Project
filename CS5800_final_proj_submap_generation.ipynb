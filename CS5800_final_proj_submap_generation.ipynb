{
  "nbformat": 4,
  "nbformat_minor": 0,
  "metadata": {
    "colab": {
      "name": "CS5800 final proj submap generation",
      "provenance": []
    },
    "kernelspec": {
      "name": "python3",
      "display_name": "Python 3"
    },
    "language_info": {
      "name": "python"
    }
  },
  "cells": [
    {
      "cell_type": "code",
      "execution_count": 2,
      "metadata": {
        "id": "AlSwqzP6fsmn"
      },
      "outputs": [],
      "source": [
        "import pandas as pd\n",
        "\n",
        "df = pd.read_csv(\"Blue_Bike_Stations.csv\")"
      ]
    },
    {
      "cell_type": "code",
      "source": [
        "# Add two columns to normalize the coordinates\n",
        "df[\"Add_minX\"] = df[[\"X\"]]+min(df[\"X\"])\n",
        "df[\"Add_minY\"] = df[[\"Y\"]]-min(df[\"Y\"])"
      ],
      "metadata": {
        "id": "LgHh3BLaksvk"
      },
      "execution_count": 11,
      "outputs": []
    },
    {
      "cell_type": "code",
      "source": [
        "print(df.shape)\n",
        "print(df.head())"
      ],
      "metadata": {
        "colab": {
          "base_uri": "https://localhost:8080/"
        },
        "id": "sTMQ1WJ7lAyV",
        "outputId": "8086c58b-6874-45d8-9cad-70779984093a"
      },
      "execution_count": 12,
      "outputs": [
        {
          "output_type": "stream",
          "name": "stdout",
          "text": [
            "(425, 7)\n",
            "              X             Y                                 Name  \\\n",
            "0 -7.916449e+06  5.212672e+06                       1200 Beacon St   \n",
            "1 -7.923242e+06  5.215762e+06                          160 Arsenal   \n",
            "2 -7.918062e+06  5.215631e+06                     175 N Harvard St   \n",
            "3 -7.915794e+06  5.218121e+06                        191 Beacon St   \n",
            "4 -7.914260e+06  5.204349e+06  2 Hummingbird Lane at Olmsted Green   \n",
            "\n",
            "     District  Total_docks      Add_minX      Add_minY  \n",
            "0   Brookline           15  14815.049054  13327.199873  \n",
            "1   Watertown           11   8022.304783  16417.523998  \n",
            "2      Boston           18  13201.986218  16286.746119  \n",
            "3  Somerville           19  15470.440329  18777.076191  \n",
            "4      Boston           17  17004.771343   5005.154188  \n"
          ]
        }
      ]
    },
    {
      "cell_type": "code",
      "source": [
        "# Drop the columns we won't need\n",
        "df.drop([\"Number\",\"Latitude\",\"Longitude\",\"Public_\",\"ObjectId\"],axis=1,inplace=True)"
      ],
      "metadata": {
        "id": "xquRsuN9lE04"
      },
      "execution_count": 5,
      "outputs": []
    },
    {
      "cell_type": "code",
      "source": [
        "print(df.shape)\n",
        "print(df.head())"
      ],
      "metadata": {
        "colab": {
          "base_uri": "https://localhost:8080/"
        },
        "id": "GmNEROz-l8bK",
        "outputId": "ea1e4f49-e352-41f2-ea8d-81b9be2a1eaf"
      },
      "execution_count": 10,
      "outputs": [
        {
          "output_type": "stream",
          "name": "stdout",
          "text": [
            "(425, 7)\n",
            "              X             Y                                 Name  \\\n",
            "0 -7.916449e+06  5.212672e+06                       1200 Beacon St   \n",
            "1 -7.923242e+06  5.215762e+06                          160 Arsenal   \n",
            "2 -7.918062e+06  5.215631e+06                     175 N Harvard St   \n",
            "3 -7.915794e+06  5.218121e+06                        191 Beacon St   \n",
            "4 -7.914260e+06  5.204349e+06  2 Hummingbird Lane at Olmsted Green   \n",
            "\n",
            "     District  Total_docks      Add_minX      Add_minY  \n",
            "0   Brookline           15 -1.584771e+07  13327.199873  \n",
            "1   Watertown           11 -1.585451e+07  16417.523998  \n",
            "2      Boston           18 -1.584933e+07  16286.746119  \n",
            "3  Somerville           19 -1.584706e+07  18777.076191  \n",
            "4      Boston           17 -1.584552e+07   5005.154188  \n"
          ]
        }
      ]
    },
    {
      "cell_type": "code",
      "source": [
        "# Two entries had 0 total docks, no need to consider those\n",
        "df.drop(df[df[\"Total_docks\"]==0].index,inplace=True)"
      ],
      "metadata": {
        "id": "Pj6w8i-vl_YF"
      },
      "execution_count": 9,
      "outputs": []
    },
    {
      "cell_type": "code",
      "source": [
        "from numpy.ma.core import sqrt\n",
        "def dist(x1,y1,x2,y2):\n",
        "  x = pow(x1-x2,2)\n",
        "  y = pow(y1-y2,2)\n",
        "  return sqrt(x+y)"
      ],
      "metadata": {
        "id": "rFtkHbGVmZsv"
      },
      "execution_count": 13,
      "outputs": []
    },
    {
      "cell_type": "code",
      "source": [
        "a1 = df.iloc[0][[\"Add_minX\",\"Add_minY\"]].tolist()\n",
        "b1 = df.iloc[1][[\"Add_minX\",\"Add_minY\"]].tolist()\n",
        "print(a1)\n",
        "print(b1)"
      ],
      "metadata": {
        "colab": {
          "base_uri": "https://localhost:8080/"
        },
        "id": "7Woz0JkMoDb-",
        "outputId": "9016f6d2-7fd0-42e8-a7f9-74ca182e2b18"
      },
      "execution_count": 23,
      "outputs": [
        {
          "output_type": "stream",
          "name": "stdout",
          "text": [
            "[14815.049053790048, 13327.199873380363]\n",
            "[8022.304782520048, 16417.52399769053]\n"
          ]
        }
      ]
    },
    {
      "cell_type": "code",
      "source": [
        "print(a1[0])"
      ],
      "metadata": {
        "colab": {
          "base_uri": "https://localhost:8080/"
        },
        "id": "iekBkP9toVP8",
        "outputId": "68663192-564e-452b-bf99-1bebc02d5685"
      },
      "execution_count": 16,
      "outputs": [
        {
          "output_type": "stream",
          "name": "stdout",
          "text": [
            "14815.049053790048\n"
          ]
        }
      ]
    },
    {
      "cell_type": "code",
      "source": [
        "dist(a1[0],a1[1],b1[0],b1[1])"
      ],
      "metadata": {
        "colab": {
          "base_uri": "https://localhost:8080/"
        },
        "id": "oZoptCcGogjI",
        "outputId": "2ddd6689-27b0-419c-fcb2-0a884f278cf3"
      },
      "execution_count": 17,
      "outputs": [
        {
          "output_type": "execute_result",
          "data": {
            "text/plain": [
              "7462.6723047555015"
            ]
          },
          "metadata": {},
          "execution_count": 17
        }
      ]
    },
    {
      "cell_type": "code",
      "source": [
        "# Get all distances\n",
        "distances = []\n",
        "for i in range(df.shape[0]):\n",
        "  for j in range(i+1,df.shape[0]):\n",
        "    a = df.iloc[i][[\"Add_minX\",\"Add_minY\"]]#.tolist()\n",
        "    b = df.iloc[j][[\"Add_minX\",\"Add_minY\"]]#.tolist()\n",
        "    distances.append(dist(a[0],a[1],b[0],b[1]))"
      ],
      "metadata": {
        "id": "LRYHbJ3Jol5w"
      },
      "execution_count": 18,
      "outputs": []
    },
    {
      "cell_type": "code",
      "source": [
        "print(len(distances))\n",
        "print(max(distances))\n",
        "print(min(distances))\n",
        "print(sum(distances)/len(distances))"
      ],
      "metadata": {
        "colab": {
          "base_uri": "https://localhost:8080/"
        },
        "id": "cKZ2kWFArPMm",
        "outputId": "52c2c641-168d-4357-ef27-6b7ab1dbc616"
      },
      "execution_count": 20,
      "outputs": [
        {
          "output_type": "stream",
          "name": "stdout",
          "text": [
            "90100\n",
            "50699.23620739128\n",
            "33.95196850170113\n",
            "9464.065869467226\n"
          ]
        }
      ]
    },
    {
      "cell_type": "code",
      "source": [
        "tempD = {}\n",
        "tempD[(tuple(a1),tuple(b1))] = distances[-1]\n",
        "print(tempD)"
      ],
      "metadata": {
        "colab": {
          "base_uri": "https://localhost:8080/"
        },
        "id": "y97buCjcsRSn",
        "outputId": "b1b51013-4f92-41f2-c624-f784786c5466"
      },
      "execution_count": 28,
      "outputs": [
        {
          "output_type": "stream",
          "name": "stdout",
          "text": [
            "{((14815.049053790048, 13327.199873380363), (8022.304782520048, 16417.52399769053)): 4860.852940082774}\n"
          ]
        }
      ]
    },
    {
      "cell_type": "code",
      "source": [
        ""
      ],
      "metadata": {
        "id": "yKu556t8tuxc"
      },
      "execution_count": null,
      "outputs": []
    },
    {
      "cell_type": "code",
      "source": [
        "distDict = {}\n",
        "for i in range(df.shape[0]):\n",
        "  for j in range(i+1,df.shape[0]):\n",
        "    a = df.iloc[i][[\"Add_minX\",\"Add_minY\"]].tolist()\n",
        "    b = df.iloc[j][[\"Add_minX\",\"Add_minY\"]].tolist()\n",
        "    distDict[(tuple(a),tuple(b))] = dist(a[0],a[1],b[0],b[1])\n",
        "print(len(distDict))"
      ],
      "metadata": {
        "colab": {
          "base_uri": "https://localhost:8080/"
        },
        "id": "PrIASpF5r2Qw",
        "outputId": "630cd0b3-abeb-4c68-be82-2859c2f33666"
      },
      "execution_count": 29,
      "outputs": [
        {
          "output_type": "stream",
          "name": "stdout",
          "text": [
            "90100\n"
          ]
        }
      ]
    },
    {
      "cell_type": "code",
      "source": [
        "import pickle\n",
        "f = open(\"Distance dictionary.pkl\",\"wb\")\n",
        "pickle.dump(distDict,f)\n",
        "f.close()"
      ],
      "metadata": {
        "id": "orH19cA-t9Uh"
      },
      "execution_count": 30,
      "outputs": []
    },
    {
      "cell_type": "code",
      "source": [
        ""
      ],
      "metadata": {
        "id": "n4GPJIYQwcBP"
      },
      "execution_count": null,
      "outputs": []
    }
  ]
}