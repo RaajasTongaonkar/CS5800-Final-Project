{
  "nbformat": 4,
  "nbformat_minor": 0,
  "metadata": {
    "colab": {
      "name": "CS5800 final project djikstra's implementation",
      "provenance": []
    },
    "kernelspec": {
      "name": "python3",
      "display_name": "Python 3"
    },
    "language_info": {
      "name": "python"
    }
  },
  "cells": [
    {
      "cell_type": "code",
      "execution_count": 7,
      "metadata": {
        "id": "dNnEiKs4vrTH"
      },
      "outputs": [],
      "source": [
        "import pandas as pd\n",
        "import numpy as np"
      ]
    },
    {
      "cell_type": "code",
      "source": [
        "class Node:\n",
        "  def __init__(self,X,Y,name,district,docks,id):\n",
        "    self.X = X\n",
        "    self.Y = Y\n",
        "    self.name = name\n",
        "    self.district = district\n",
        "    self.docks = docks\n",
        "    self.ID = id\n",
        "  \n",
        "  def nodePrint(self):\n",
        "    print(\"Name - \",self.name)\n",
        "    print(\"(X,Y) - (\",self.X,\",\",self.Y,\")\")\n",
        "    print(\"Docks - \",self.docks)\n",
        "    print(\"ID - \",self.ID)\n",
        "\n",
        "\n",
        "class Graph:\n",
        "  def __init__(self,num):\n",
        "    self.numVertices = num\n",
        "    self.graph = [[0 for i in range(num)] for j in range(num)]      #Create a 2D matrix with all 0s of size num\n",
        "    self.vertices = []\n",
        "  \n",
        "  def NeighboursOf(self,vert):\n",
        "    neighbours = []\n",
        "    for i in range(self.numVertices):\n",
        "      if self.graph[vert][i]!=0:\n",
        "        neighbours.append(i)\n",
        "    return neighbours"
      ],
      "metadata": {
        "id": "Y-FwfG6XwqQp"
      },
      "execution_count": 87,
      "outputs": []
    },
    {
      "cell_type": "code",
      "source": [
        "# Loading the graph.\n",
        "# Need to run the cells where the two classes are defined first\n",
        "import pickle\n",
        "f = open(\"Graph g.pkl\",\"rb\")\n",
        "G = pickle.load(f)\n",
        "f.close()\n",
        "print(len(G.vertices))"
      ],
      "metadata": {
        "colab": {
          "base_uri": "https://localhost:8080/"
        },
        "id": "bMQJp6NJwql1",
        "outputId": "1593ef55-6018-4d4c-fd92-f987aa630c42"
      },
      "execution_count": 88,
      "outputs": [
        {
          "output_type": "stream",
          "name": "stdout",
          "text": [
            "245\n"
          ]
        }
      ]
    },
    {
      "cell_type": "code",
      "source": [
        "np.array(G.graph).shape"
      ],
      "metadata": {
        "colab": {
          "base_uri": "https://localhost:8080/"
        },
        "id": "QFdlOBCjw4WJ",
        "outputId": "edd92bce-a3df-4685-bd33-31d7ac0ac6e1"
      },
      "execution_count": 37,
      "outputs": [
        {
          "output_type": "execute_result",
          "data": {
            "text/plain": [
              "(245, 245)"
            ]
          },
          "metadata": {},
          "execution_count": 37
        }
      ]
    },
    {
      "cell_type": "code",
      "source": [
        "type(G.vertices[0])"
      ],
      "metadata": {
        "colab": {
          "base_uri": "https://localhost:8080/"
        },
        "id": "oQvigAV-zYjz",
        "outputId": "8118bcd9-4274-4305-c259-d6a60d62bfd0"
      },
      "execution_count": 38,
      "outputs": [
        {
          "output_type": "execute_result",
          "data": {
            "text/plain": [
              "__main__.Node"
            ]
          },
          "metadata": {},
          "execution_count": 38
        }
      ]
    },
    {
      "cell_type": "code",
      "source": [
        "len(G.graph)"
      ],
      "metadata": {
        "colab": {
          "base_uri": "https://localhost:8080/"
        },
        "id": "soo_JyonxNpn",
        "outputId": "828834af-1d8e-4da7-8ce2-764851328563"
      },
      "execution_count": 39,
      "outputs": [
        {
          "output_type": "execute_result",
          "data": {
            "text/plain": [
              "245"
            ]
          },
          "metadata": {},
          "execution_count": 39
        }
      ]
    },
    {
      "cell_type": "code",
      "source": [
        "G.vertices[0].nodePrint()"
      ],
      "metadata": {
        "colab": {
          "base_uri": "https://localhost:8080/"
        },
        "id": "JO5KfxnryW3s",
        "outputId": "5ed0c92d-b6aa-4532-9a66-eb3e8bc0b71d"
      },
      "execution_count": 89,
      "outputs": [
        {
          "output_type": "stream",
          "name": "stdout",
          "text": [
            "Name -  175 N Harvard St\n",
            "(X,Y) - ( -7918062.31703125 , 5215631.0608375 )\n",
            "Docks -  18\n",
            "ID -  0\n"
          ]
        }
      ]
    },
    {
      "cell_type": "code",
      "source": [
        "G.NeighboursOf(0)"
      ],
      "metadata": {
        "id": "ewpODC_INLXf"
      },
      "execution_count": null,
      "outputs": []
    },
    {
      "cell_type": "code",
      "source": [
        "# References\n",
        "# https://en.wikipedia.org/wiki/Dijkstra%27s_algorithm\n",
        "# https://www.geeksforgeeks.org/dijkstras-shortest-path-algorithm-greedy-algo-7/\n",
        "# https://www.udacity.com/blog/2021/10/implementing-dijkstras-algorithm-in-python.html\n",
        "\n",
        "\n",
        "def selfDjik(graph,source,target=0,groupSize=1):\n",
        "  distanceToSrc = [float('inf')]*graph.numVertices\n",
        "  distanceToSrc[source] = 0\n",
        "  visited = [False]*graph.numVertices\n",
        "  prev = {}\n",
        "  for i in range(graph.numVertices):\n",
        "    \n",
        "    temp = float('inf')\n",
        "    for j in range(graph.numVertices):\n",
        "      if distanceToSrc[j] < temp and visited[j] == False and graph.vertices[j].docks>=groupSize:\n",
        "        temp = distanceToSrc[j]\n",
        "        minIndex = j\n",
        "    if 'minIndex' not in locals():\n",
        "      print(\"Cannot reach with given group size\")\n",
        "      return None,None,None\n",
        "    visited[minIndex] = True\n",
        "    for y in range(graph.numVertices):\n",
        "      if graph.graph[minIndex][y]>0 and visited[y]==False:\n",
        "        if distanceToSrc[y]>distanceToSrc[minIndex]+graph.graph[minIndex][y]:\n",
        "          distanceToSrc[y] = distanceToSrc[minIndex]+graph.graph[minIndex][y]\n",
        "          prev[y] = minIndex\n",
        "  \n",
        "\n",
        "  path = []\n",
        "  vertex = target\n",
        "  while vertex!=source:\n",
        "    path.append(vertex)\n",
        "    vertex = prev[vertex]\n",
        "  path.append(vertex)\n",
        "  return distanceToSrc, prev, path\n"
      ],
      "metadata": {
        "id": "CtpJQ-ITXB5V"
      },
      "execution_count": 171,
      "outputs": []
    },
    {
      "cell_type": "code",
      "source": [
        "di,pr,path = selfDjik(G,0,6)"
      ],
      "metadata": {
        "id": "kXlHdkZLaUyR"
      },
      "execution_count": 179,
      "outputs": []
    },
    {
      "cell_type": "code",
      "source": [
        "# Path with no specified group size ie single person\n",
        "path"
      ],
      "metadata": {
        "colab": {
          "base_uri": "https://localhost:8080/"
        },
        "id": "LCfYrOEFaXia",
        "outputId": "47ba8f12-1ffb-4b69-c525-8d678f6886b8"
      },
      "execution_count": 181,
      "outputs": [
        {
          "output_type": "execute_result",
          "data": {
            "text/plain": [
              "[6, 196, 61, 60, 242, 199, 0]"
            ]
          },
          "metadata": {},
          "execution_count": 181
        }
      ]
    },
    {
      "cell_type": "code",
      "source": [
        "di, pr, path = selfDjik(G,0,6,17)"
      ],
      "metadata": {
        "id": "rg76dHPmba5B"
      },
      "execution_count": 175,
      "outputs": []
    },
    {
      "cell_type": "code",
      "source": [
        "# Alternate route\n",
        "path"
      ],
      "metadata": {
        "colab": {
          "base_uri": "https://localhost:8080/"
        },
        "id": "bw0plGsYdWAF",
        "outputId": "e9612bff-1333-4577-ea9e-72a0e9180476"
      },
      "execution_count": 176,
      "outputs": [
        {
          "output_type": "execute_result",
          "data": {
            "text/plain": [
              "[6, 70, 189, 106, 78, 242, 173, 0]"
            ]
          },
          "metadata": {},
          "execution_count": 176
        }
      ]
    },
    {
      "cell_type": "code",
      "source": [
        "# Too large a group\n",
        "di, pr, path = selfDjik(G,0,6,20)"
      ],
      "metadata": {
        "colab": {
          "base_uri": "https://localhost:8080/"
        },
        "id": "05QMS-vMdSwe",
        "outputId": "2d1abed7-1c04-4001-ec7c-3a38312784af"
      },
      "execution_count": 178,
      "outputs": [
        {
          "output_type": "stream",
          "name": "stdout",
          "text": [
            "Cannot reach with given group size\n"
          ]
        }
      ]
    },
    {
      "cell_type": "code",
      "source": [
        ""
      ],
      "metadata": {
        "id": "zmOcVn9wdZfK"
      },
      "execution_count": null,
      "outputs": []
    }
  ]
}